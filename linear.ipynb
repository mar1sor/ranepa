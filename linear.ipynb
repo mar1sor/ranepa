{
 "cells": [
  {
   "cell_type": "code",
   "execution_count": 160,
   "id": "ac3dc039-5391-440b-a657-13ade56ae8a9",
   "metadata": {
    "tags": []
   },
   "outputs": [
    {
     "name": "stdout",
     "output_type": "stream",
     "text": [
      "Predictions for new data: [10.  6.]\n"
     ]
    },
    {
     "name": "stderr",
     "output_type": "stream",
     "text": [
      "C:\\Users\\K\\anaconda3\\Lib\\site-packages\\sklearn\\base.py:439: UserWarning: X does not have valid feature names, but LinearRegression was fitted with feature names\n",
      "  warnings.warn(\n"
     ]
    }
   ],
   "source": [
    "#Импорт необходимых библиотек:\n",
    "import gradio as gr\n",
    "import numpy as np\n",
    "import pickle\n",
    "\n",
    "from sklearn.model_selection import train_test_split\n",
    "from sklearn.linear_model import LinearRegression\n",
    "import pickle\n",
    "\n",
    "#Создание DataFrame\n",
    "# Defining arrays for training\n",
    "X_train = np.array([[1, 2], [3, 3], [2, 6], [7, 4], [9, 1], [4, 5], [5, 2]])\n",
    "y_train = np.array([3, 6, 8, 11, 10, 9, 7])\n",
    "\n",
    "#Разделение данных на обучающую и тестовую выборки:\n",
    "X_train, X_test, y_train, y_test = train_test_split(X, y, test_size=0.2, random_state=42)\n",
    "\n",
    "#Создание и обучение модели:\n",
    "model = LinearRegression()\n",
    "model.fit(X_train, y_train)\n",
    "\n",
    "#Предсказание значений на тестовых данных:\n",
    "y_pred = model.predict(X_test)\n",
    "\n",
    "# Saving the model\n",
    "pickle.dump(model, open('trained_model_linreg.pkl', 'wb'))\n",
    "\n",
    "#Использование модели для предсказаний на новых данных\n",
    "new_data = np.array([[3, 7], [4, 2]])\n",
    "\n",
    "#Предсказания для новых данных:\n",
    "predictions = model.predict(new_data)\n",
    "print(f\"Predictions for new data: {predictions}\")"
   ]
  },
  {
   "cell_type": "code",
   "execution_count": 168,
   "id": "83ea584f-24b3-4903-b824-14089f15c4f2",
   "metadata": {
    "tags": []
   },
   "outputs": [
    {
     "name": "stdout",
     "output_type": "stream",
     "text": [
      "Running on local URL:  http://127.0.0.1:7887\n",
      "Running on public URL: https://a32c977c8625f5d0c2.gradio.live\n",
      "\n",
      "This share link expires in 72 hours. For free permanent hosting and GPU upgrades, run `gradio deploy` from Terminal to deploy to Spaces (https://huggingface.co/spaces)\n"
     ]
    },
    {
     "data": {
      "text/html": [
       "<div><iframe src=\"https://a32c977c8625f5d0c2.gradio.live\" width=\"100%\" height=\"500\" allow=\"autoplay; camera; microphone; clipboard-read; clipboard-write;\" frameborder=\"0\" allowfullscreen></iframe></div>"
      ],
      "text/plain": [
       "<IPython.core.display.HTML object>"
      ]
     },
     "metadata": {},
     "output_type": "display_data"
    },
    {
     "data": {
      "text/plain": []
     },
     "execution_count": 168,
     "metadata": {},
     "output_type": "execute_result"
    }
   ],
   "source": [
    "from sklearn.linear_model import LinearRegression\n",
    "import gradio as gr\n",
    "import numpy as np\n",
    "import pickle\n",
    "\n",
    "# Loading the model\n",
    "model_loaded = pickle.load(open('trained_model_linreg.pkl', 'rb'))\n",
    "\n",
    "# Defining a function for prediction\n",
    "def predict(x1,x2):\n",
    "\n",
    "    # Converting input values to np.ndarray\n",
    "    x_array = np.array([float(x1),float(x2)])\n",
    "\n",
    "    # Predicting\n",
    "    prediction = model_loaded.predict([x_array])\n",
    "\n",
    "    if prediction:\n",
    "        return prediction\n",
    "    else:\n",
    "        return \"NEGATIVE ANSWER\"\n",
    "    return\n",
    "#создание нового интерфейса gradio\n",
    "\n",
    "idemo = gr.Interface(fn=predict, inputs=[\"number\", \"number\"], outputs=[\"text\"])\n",
    "\n",
    "idemo.launch(share=True)\n"
   ]
  },
  {
   "cell_type": "markdown",
   "id": "54f22c1b-f2bf-4a2e-832d-bef58f09a21d",
   "metadata": {},
   "source": [
    "# Assistant\n",
    "The SyntaxError is caused by a mismatch between opening and closing parentheses in the `new_data` array. The `new_data` array is defined with two rows, but the values `x1` and `y1` are not defined.\n",
    "\n",
    "Would you like me to provide the corrected code?"
   ]
  },
  {
   "cell_type": "markdown",
   "id": "418306f3-4b90-4d81-9305-33f216f7f2d6",
   "metadata": {},
   "source": [
    "# User\n",
    "yes"
   ]
  },
  {
   "cell_type": "code",
   "execution_count": 108,
   "id": "98c04169-82e4-4ef4-bfc2-4ca781d54a42",
   "metadata": {
    "tags": []
   },
   "outputs": [],
   "source": [
    "# Assistant\n",
    "def predict(x, y):\n",
    "    new_data = np.array([[x, y]])\n",
    "    predictions = model_loaded.predict(new_data)\n",
    "    return predictions"
   ]
  },
  {
   "cell_type": "code",
   "execution_count": null,
   "id": "183bd786-db31-4189-8db1-25691d5ea271",
   "metadata": {},
   "outputs": [],
   "source": []
  }
 ],
 "metadata": {
  "kernelspec": {
   "display_name": "Python 3 (ipykernel)",
   "language": "python",
   "name": "python3"
  },
  "language_info": {
   "codemirror_mode": {
    "name": "ipython",
    "version": 3
   },
   "file_extension": ".py",
   "mimetype": "text/x-python",
   "name": "python",
   "nbconvert_exporter": "python",
   "pygments_lexer": "ipython3",
   "version": "3.11.7"
  }
 },
 "nbformat": 4,
 "nbformat_minor": 5
}
