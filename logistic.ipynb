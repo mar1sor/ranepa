{
 "cells": [
  {
   "cell_type": "code",
   "execution_count": 9,
   "id": "f10ef99b-52f6-48b1-b234-29d97e7794cc",
   "metadata": {
    "tags": []
   },
   "outputs": [],
   "source": [
    "from sklearn.linear_model import LogisticRegression\n",
    "import numpy as np\n",
    "import pickle\n",
    "\n",
    "# Defining arrays for training\n",
    "x_train = np.array([[0.5, 1.5], [1, 1], [1.5, 0.5], [1, 0.5], [2, 0], [2, 0.5], [1, 2], [2, 2], [0.5, 3], [2, 1.5], [1, 2.5], [3, 1]])\n",
    "y_train = np.array([0, 0, 0, 0, 0, 0, 1, 1, 1, 1, 1, 1])\n",
    "\n",
    "# Training model\n",
    "model = LogisticRegression()\n",
    "model.fit(x_train, y_train)\n",
    "\n",
    "# Saving the model\n",
    "pickle.dump(model, open('trained_model_logreg.pkl', 'wb'))"
   ]
  },
  {
   "cell_type": "code",
   "execution_count": 11,
   "id": "1aa2a97b-3da5-4f30-913d-1a8e6765ae0b",
   "metadata": {
    "tags": []
   },
   "outputs": [
    {
     "name": "stdout",
     "output_type": "stream",
     "text": [
      "Running on local URL:  http://127.0.0.1:7861\n",
      "\n",
      "To create a public link, set `share=True` in `launch()`.\n"
     ]
    },
    {
     "data": {
      "text/html": [
       "<div><iframe src=\"http://127.0.0.1:7861/\" width=\"100%\" height=\"500\" allow=\"autoplay; camera; microphone; clipboard-read; clipboard-write;\" frameborder=\"0\" allowfullscreen></iframe></div>"
      ],
      "text/plain": [
       "<IPython.core.display.HTML object>"
      ]
     },
     "metadata": {},
     "output_type": "display_data"
    },
    {
     "data": {
      "text/plain": []
     },
     "execution_count": 11,
     "metadata": {},
     "output_type": "execute_result"
    }
   ],
   "source": [
    "from sklearn.linear_model import LogisticRegression\n",
    "import gradio as gr\n",
    "import pandas as pd\n",
    "import numpy as np\n",
    "import pickle\n",
    "\n",
    "# Loading the model\n",
    "model_loaded = pickle.load(open('trained_model_logreg.pkl', 'rb'))\n",
    "\n",
    "# Defining a function for prediction\n",
    "def predict(x1,x2):\n",
    "\n",
    "    # Converting input values to np.ndarray\n",
    "    x_array = np.array([float(x1),float(x2)])\n",
    "\n",
    "    # Predicting\n",
    "    prediction = model_loaded.predict([x_array])\n",
    "\n",
    "    if prediction:\n",
    "        return \"POSITIVE ANSWER\"\n",
    "    else:\n",
    "        return \"NEGATIVE ANSWER\"\n",
    "    return\n",
    "\n",
    "# Launching\n",
    "demo = gr.Interface(\n",
    "    fn=predict,\n",
    "    inputs=[\"text\", \"text\"],\n",
    "    outputs=\"text\",\n",
    "    title='Simple Logistic Regression'\n",
    ")\n",
    "\n",
    "demo.launch()"
   ]
  },
  {
   "cell_type": "code",
   "execution_count": null,
   "id": "448b39a9-2c6f-4683-8648-a3533cc42ec5",
   "metadata": {},
   "outputs": [],
   "source": []
  }
 ],
 "metadata": {
  "kernelspec": {
   "display_name": "Python 3 (ipykernel)",
   "language": "python",
   "name": "python3"
  },
  "language_info": {
   "codemirror_mode": {
    "name": "ipython",
    "version": 3
   },
   "file_extension": ".py",
   "mimetype": "text/x-python",
   "name": "python",
   "nbconvert_exporter": "python",
   "pygments_lexer": "ipython3",
   "version": "3.11.7"
  }
 },
 "nbformat": 4,
 "nbformat_minor": 5
}
